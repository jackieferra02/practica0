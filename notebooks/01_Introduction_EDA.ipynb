{
 "cells": [
  {
   "cell_type": "code",
   "execution_count": 2,
   "id": "91096163-7940-42b7-b397-aeef35930c47",
   "metadata": {},
   "outputs": [],
   "source": [
    "import pandas as pd"
   ]
  },
  {
   "cell_type": "code",
   "execution_count": 4,
   "id": "e5d1e9d8-37dd-4f0a-8f4b-473853aa7d68",
   "metadata": {},
   "outputs": [],
   "source": [
    "import os"
   ]
  },
  {
   "cell_type": "code",
   "execution_count": 6,
   "id": "0b82be81-2613-46ac-a579-883e01096bfb",
   "metadata": {},
   "outputs": [
    {
     "name": "stdout",
     "output_type": "stream",
     "text": [
      "Directorio actual: C:\\Users\\jacki\\OneDrive\\Documentos\\CUNEF\\Aprendizaje Automatico\\practica0\\notebooks\n"
     ]
    }
   ],
   "source": [
    "import os\n",
    "\n",
    "# Ver el directorio actual\n",
    "directorio_actual = os.getcwd()\n",
    "print(\"Directorio actual:\", directorio_actual)\n"
   ]
  },
  {
   "cell_type": "code",
   "execution_count": 9,
   "id": "f9ae76ac-4ddb-4518-b351-8322f25f3f05",
   "metadata": {},
   "outputs": [
    {
     "name": "stdout",
     "output_type": "stream",
     "text": [
      "Collecting sweetviz\n",
      "  Using cached sweetviz-2.3.1-py3-none-any.whl.metadata (24 kB)\n",
      "Requirement already satisfied: pandas!=1.0.0,!=1.0.1,!=1.0.2,>=0.25.3 in c:\\users\\jacki\\anaconda3\\lib\\site-packages (from sweetviz) (2.2.2)\n",
      "Requirement already satisfied: numpy>=1.16.0 in c:\\users\\jacki\\anaconda3\\lib\\site-packages (from sweetviz) (1.26.4)\n",
      "Requirement already satisfied: matplotlib>=3.1.3 in c:\\users\\jacki\\anaconda3\\lib\\site-packages (from sweetviz) (3.8.4)\n",
      "Requirement already satisfied: tqdm>=4.43.0 in c:\\users\\jacki\\anaconda3\\lib\\site-packages (from sweetviz) (4.66.4)\n",
      "Requirement already satisfied: scipy>=1.3.2 in c:\\users\\jacki\\anaconda3\\lib\\site-packages (from sweetviz) (1.13.1)\n",
      "Requirement already satisfied: jinja2>=2.11.1 in c:\\users\\jacki\\anaconda3\\lib\\site-packages (from sweetviz) (3.1.4)\n",
      "Collecting importlib-resources>=1.2.0 (from sweetviz)\n",
      "  Using cached importlib_resources-6.4.5-py3-none-any.whl.metadata (4.0 kB)\n",
      "Requirement already satisfied: MarkupSafe>=2.0 in c:\\users\\jacki\\anaconda3\\lib\\site-packages (from jinja2>=2.11.1->sweetviz) (2.1.3)\n",
      "Requirement already satisfied: contourpy>=1.0.1 in c:\\users\\jacki\\anaconda3\\lib\\site-packages (from matplotlib>=3.1.3->sweetviz) (1.2.0)\n",
      "Requirement already satisfied: cycler>=0.10 in c:\\users\\jacki\\anaconda3\\lib\\site-packages (from matplotlib>=3.1.3->sweetviz) (0.11.0)\n",
      "Requirement already satisfied: fonttools>=4.22.0 in c:\\users\\jacki\\anaconda3\\lib\\site-packages (from matplotlib>=3.1.3->sweetviz) (4.51.0)\n",
      "Requirement already satisfied: kiwisolver>=1.3.1 in c:\\users\\jacki\\anaconda3\\lib\\site-packages (from matplotlib>=3.1.3->sweetviz) (1.4.4)\n",
      "Requirement already satisfied: packaging>=20.0 in c:\\users\\jacki\\anaconda3\\lib\\site-packages (from matplotlib>=3.1.3->sweetviz) (23.2)\n",
      "Requirement already satisfied: pillow>=8 in c:\\users\\jacki\\anaconda3\\lib\\site-packages (from matplotlib>=3.1.3->sweetviz) (10.3.0)\n",
      "Requirement already satisfied: pyparsing>=2.3.1 in c:\\users\\jacki\\anaconda3\\lib\\site-packages (from matplotlib>=3.1.3->sweetviz) (3.0.9)\n",
      "Requirement already satisfied: python-dateutil>=2.7 in c:\\users\\jacki\\anaconda3\\lib\\site-packages (from matplotlib>=3.1.3->sweetviz) (2.9.0.post0)\n",
      "Requirement already satisfied: pytz>=2020.1 in c:\\users\\jacki\\anaconda3\\lib\\site-packages (from pandas!=1.0.0,!=1.0.1,!=1.0.2,>=0.25.3->sweetviz) (2024.1)\n",
      "Requirement already satisfied: tzdata>=2022.7 in c:\\users\\jacki\\anaconda3\\lib\\site-packages (from pandas!=1.0.0,!=1.0.1,!=1.0.2,>=0.25.3->sweetviz) (2023.3)\n",
      "Requirement already satisfied: colorama in c:\\users\\jacki\\anaconda3\\lib\\site-packages (from tqdm>=4.43.0->sweetviz) (0.4.6)\n",
      "Requirement already satisfied: six>=1.5 in c:\\users\\jacki\\anaconda3\\lib\\site-packages (from python-dateutil>=2.7->matplotlib>=3.1.3->sweetviz) (1.16.0)\n",
      "Using cached sweetviz-2.3.1-py3-none-any.whl (15.1 MB)\n",
      "Using cached importlib_resources-6.4.5-py3-none-any.whl (36 kB)\n",
      "Installing collected packages: importlib-resources, sweetviz\n",
      "Successfully installed importlib-resources-6.4.5 sweetviz-2.3.1\n"
     ]
    }
   ],
   "source": [
    "!pip install sweetviz"
   ]
  },
  {
   "cell_type": "code",
   "execution_count": 8,
   "id": "514be67c-fe2a-4895-812b-2f9720da1027",
   "metadata": {},
   "outputs": [],
   "source": [
    "import sweetviz as sv"
   ]
  },
  {
   "cell_type": "code",
   "execution_count": 10,
   "id": "3142a69d-35e7-41e2-89f2-57993b6400d9",
   "metadata": {},
   "outputs": [
    {
     "name": "stdout",
     "output_type": "stream",
     "text": [
      "                                                     id  member_id  loan_amnt  \\\n",
      "0                                             104046719        NaN    14000.0   \n",
      "1                                             104048967        NaN     5000.0   \n",
      "2                                             104028593        NaN     4600.0   \n",
      "3                                             104046702        NaN    14000.0   \n",
      "4                                             104280113        NaN    15000.0   \n",
      "...                                                 ...        ...        ...   \n",
      "96776                                          94477589        NaN    10000.0   \n",
      "96777                                          94048859        NaN     6325.0   \n",
      "96778                                          94038849        NaN    15625.0   \n",
      "96779  Total amount funded in policy code 1: 1437969475        NaN        NaN   \n",
      "96780   Total amount funded in policy code 2: 520780182        NaN        NaN   \n",
      "\n",
      "       funded_amnt  funded_amnt_inv        term int_rate  installment grade  \\\n",
      "0          14000.0          14000.0   36 months   15.99%       492.13     C   \n",
      "1           5000.0           5000.0   36 months   25.49%       200.10     E   \n",
      "2           4600.0           4600.0   36 months   11.39%       151.45     B   \n",
      "3          14000.0          14000.0   60 months   12.74%       316.69     C   \n",
      "4          15000.0          15000.0   36 months    5.32%       451.73     A   \n",
      "...            ...              ...         ...      ...          ...   ...   \n",
      "96776      10000.0          10000.0   36 months    8.24%       314.48     B   \n",
      "96777       6325.0           6325.0   36 months   15.99%       222.34     C   \n",
      "96778      15625.0          15625.0   60 months   28.69%       493.03     F   \n",
      "96779          NaN              NaN         NaN      NaN          NaN   NaN   \n",
      "96780          NaN              NaN         NaN      NaN          NaN   NaN   \n",
      "\n",
      "      sub_grade  ... hardship_payoff_balance_amount  \\\n",
      "0            C5  ...                            NaN   \n",
      "1            E4  ...                            NaN   \n",
      "2            B3  ...                            NaN   \n",
      "3            C1  ...                            NaN   \n",
      "4            A1  ...                            NaN   \n",
      "...         ...  ...                            ...   \n",
      "96776        B1  ...                            NaN   \n",
      "96777        C5  ...                            NaN   \n",
      "96778        F1  ...                            NaN   \n",
      "96779       NaN  ...                            NaN   \n",
      "96780       NaN  ...                            NaN   \n",
      "\n",
      "      hardship_last_payment_amount disbursement_method  debt_settlement_flag  \\\n",
      "0                              NaN                Cash                     N   \n",
      "1                              NaN                Cash                     N   \n",
      "2                              NaN                Cash                     N   \n",
      "3                              NaN                Cash                     N   \n",
      "4                              NaN                Cash                     N   \n",
      "...                            ...                 ...                   ...   \n",
      "96776                          NaN                Cash                     N   \n",
      "96777                          NaN                Cash                     N   \n",
      "96778                          NaN                Cash                     N   \n",
      "96779                          NaN                 NaN                   NaN   \n",
      "96780                          NaN                 NaN                   NaN   \n",
      "\n",
      "      debt_settlement_flag_date settlement_status settlement_date  \\\n",
      "0                           NaN               NaN             NaN   \n",
      "1                           NaN               NaN             NaN   \n",
      "2                           NaN               NaN             NaN   \n",
      "3                           NaN               NaN             NaN   \n",
      "4                           NaN               NaN             NaN   \n",
      "...                         ...               ...             ...   \n",
      "96776                       NaN               NaN             NaN   \n",
      "96777                       NaN               NaN             NaN   \n",
      "96778                       NaN               NaN             NaN   \n",
      "96779                       NaN               NaN             NaN   \n",
      "96780                       NaN               NaN             NaN   \n",
      "\n",
      "      settlement_amount settlement_percentage  settlement_term  \n",
      "0                   NaN                   NaN              NaN  \n",
      "1                   NaN                   NaN              NaN  \n",
      "2                   NaN                   NaN              NaN  \n",
      "3                   NaN                   NaN              NaN  \n",
      "4                   NaN                   NaN              NaN  \n",
      "...                 ...                   ...              ...  \n",
      "96776               NaN                   NaN              NaN  \n",
      "96777               NaN                   NaN              NaN  \n",
      "96778               NaN                   NaN              NaN  \n",
      "96779               NaN                   NaN              NaN  \n",
      "96780               NaN                   NaN              NaN  \n",
      "\n",
      "[96781 rows x 151 columns]\n"
     ]
    }
   ],
   "source": [
    "# Leer el archivo CSV usando barras normales\n",
    "file_path = '../data/Loan_test_set.csv'\n",
    "df = pd.read_csv(file_path, sep=',', low_memory=False, skiprows=1)\n",
    "print(df)"
   ]
  },
  {
   "cell_type": "code",
   "execution_count": 12,
   "id": "4c13a7ee-3d87-41d1-b653-c3aee83b389e",
   "metadata": {},
   "outputs": [
    {
     "data": {
      "application/vnd.jupyter.widget-view+json": {
       "model_id": "ae5507331df3494d9ffe16c16042684e",
       "version_major": 2,
       "version_minor": 0
      },
      "text/plain": [
       "                                             |                                             | [  0%]   00:00 ->…"
      ]
     },
     "metadata": {},
     "output_type": "display_data"
    },
    {
     "name": "stderr",
     "output_type": "stream",
     "text": [
      "C:\\Users\\jacki\\anaconda3\\Lib\\site-packages\\numpy\\lib\\function_base.py:2889: RuntimeWarning: Degrees of freedom <= 0 for slice\n",
      "  c = cov(x, y, rowvar, dtype=dtype)\n",
      "C:\\Users\\jacki\\anaconda3\\Lib\\site-packages\\sweetviz\\graph_associations.py:219: PerformanceWarning: DataFrame is highly fragmented.  This is usually the result of calling `frame.insert` many times, which has poor performance.  Consider joining all columns at once using pd.concat(axis=1) instead. To get a de-fragmented frame, use `newframe = frame.copy()`\n",
      "  new_dataframe[feature] = pd.Series(dtype=float)\n",
      "C:\\Users\\jacki\\anaconda3\\Lib\\site-packages\\sweetviz\\graph_associations.py:219: PerformanceWarning: DataFrame is highly fragmented.  This is usually the result of calling `frame.insert` many times, which has poor performance.  Consider joining all columns at once using pd.concat(axis=1) instead. To get a de-fragmented frame, use `newframe = frame.copy()`\n",
      "  new_dataframe[feature] = pd.Series(dtype=float)\n",
      "C:\\Users\\jacki\\anaconda3\\Lib\\site-packages\\sweetviz\\graph_associations.py:219: PerformanceWarning: DataFrame is highly fragmented.  This is usually the result of calling `frame.insert` many times, which has poor performance.  Consider joining all columns at once using pd.concat(axis=1) instead. To get a de-fragmented frame, use `newframe = frame.copy()`\n",
      "  new_dataframe[feature] = pd.Series(dtype=float)\n",
      "C:\\Users\\jacki\\anaconda3\\Lib\\site-packages\\sweetviz\\graph_associations.py:219: PerformanceWarning: DataFrame is highly fragmented.  This is usually the result of calling `frame.insert` many times, which has poor performance.  Consider joining all columns at once using pd.concat(axis=1) instead. To get a de-fragmented frame, use `newframe = frame.copy()`\n",
      "  new_dataframe[feature] = pd.Series(dtype=float)\n",
      "C:\\Users\\jacki\\anaconda3\\Lib\\site-packages\\sweetviz\\graph_associations.py:219: PerformanceWarning: DataFrame is highly fragmented.  This is usually the result of calling `frame.insert` many times, which has poor performance.  Consider joining all columns at once using pd.concat(axis=1) instead. To get a de-fragmented frame, use `newframe = frame.copy()`\n",
      "  new_dataframe[feature] = pd.Series(dtype=float)\n",
      "C:\\Users\\jacki\\anaconda3\\Lib\\site-packages\\sweetviz\\graph_associations.py:219: PerformanceWarning: DataFrame is highly fragmented.  This is usually the result of calling `frame.insert` many times, which has poor performance.  Consider joining all columns at once using pd.concat(axis=1) instead. To get a de-fragmented frame, use `newframe = frame.copy()`\n",
      "  new_dataframe[feature] = pd.Series(dtype=float)\n",
      "C:\\Users\\jacki\\anaconda3\\Lib\\site-packages\\sweetviz\\graph_associations.py:219: PerformanceWarning: DataFrame is highly fragmented.  This is usually the result of calling `frame.insert` many times, which has poor performance.  Consider joining all columns at once using pd.concat(axis=1) instead. To get a de-fragmented frame, use `newframe = frame.copy()`\n",
      "  new_dataframe[feature] = pd.Series(dtype=float)\n",
      "C:\\Users\\jacki\\anaconda3\\Lib\\site-packages\\sweetviz\\graph_associations.py:219: PerformanceWarning: DataFrame is highly fragmented.  This is usually the result of calling `frame.insert` many times, which has poor performance.  Consider joining all columns at once using pd.concat(axis=1) instead. To get a de-fragmented frame, use `newframe = frame.copy()`\n",
      "  new_dataframe[feature] = pd.Series(dtype=float)\n",
      "C:\\Users\\jacki\\anaconda3\\Lib\\site-packages\\sweetviz\\graph_associations.py:219: PerformanceWarning: DataFrame is highly fragmented.  This is usually the result of calling `frame.insert` many times, which has poor performance.  Consider joining all columns at once using pd.concat(axis=1) instead. To get a de-fragmented frame, use `newframe = frame.copy()`\n",
      "  new_dataframe[feature] = pd.Series(dtype=float)\n",
      "C:\\Users\\jacki\\anaconda3\\Lib\\site-packages\\sweetviz\\graph_associations.py:219: PerformanceWarning: DataFrame is highly fragmented.  This is usually the result of calling `frame.insert` many times, which has poor performance.  Consider joining all columns at once using pd.concat(axis=1) instead. To get a de-fragmented frame, use `newframe = frame.copy()`\n",
      "  new_dataframe[feature] = pd.Series(dtype=float)\n",
      "C:\\Users\\jacki\\anaconda3\\Lib\\site-packages\\sweetviz\\graph_associations.py:219: PerformanceWarning: DataFrame is highly fragmented.  This is usually the result of calling `frame.insert` many times, which has poor performance.  Consider joining all columns at once using pd.concat(axis=1) instead. To get a de-fragmented frame, use `newframe = frame.copy()`\n",
      "  new_dataframe[feature] = pd.Series(dtype=float)\n",
      "C:\\Users\\jacki\\anaconda3\\Lib\\site-packages\\sweetviz\\graph_associations.py:219: PerformanceWarning: DataFrame is highly fragmented.  This is usually the result of calling `frame.insert` many times, which has poor performance.  Consider joining all columns at once using pd.concat(axis=1) instead. To get a de-fragmented frame, use `newframe = frame.copy()`\n",
      "  new_dataframe[feature] = pd.Series(dtype=float)\n",
      "C:\\Users\\jacki\\anaconda3\\Lib\\site-packages\\sweetviz\\graph_associations.py:219: PerformanceWarning: DataFrame is highly fragmented.  This is usually the result of calling `frame.insert` many times, which has poor performance.  Consider joining all columns at once using pd.concat(axis=1) instead. To get a de-fragmented frame, use `newframe = frame.copy()`\n",
      "  new_dataframe[feature] = pd.Series(dtype=float)\n",
      "C:\\Users\\jacki\\anaconda3\\Lib\\site-packages\\sweetviz\\graph_associations.py:219: PerformanceWarning: DataFrame is highly fragmented.  This is usually the result of calling `frame.insert` many times, which has poor performance.  Consider joining all columns at once using pd.concat(axis=1) instead. To get a de-fragmented frame, use `newframe = frame.copy()`\n",
      "  new_dataframe[feature] = pd.Series(dtype=float)\n",
      "C:\\Users\\jacki\\anaconda3\\Lib\\site-packages\\sweetviz\\graph_associations.py:219: PerformanceWarning: DataFrame is highly fragmented.  This is usually the result of calling `frame.insert` many times, which has poor performance.  Consider joining all columns at once using pd.concat(axis=1) instead. To get a de-fragmented frame, use `newframe = frame.copy()`\n",
      "  new_dataframe[feature] = pd.Series(dtype=float)\n",
      "C:\\Users\\jacki\\anaconda3\\Lib\\site-packages\\sweetviz\\graph_associations.py:219: PerformanceWarning: DataFrame is highly fragmented.  This is usually the result of calling `frame.insert` many times, which has poor performance.  Consider joining all columns at once using pd.concat(axis=1) instead. To get a de-fragmented frame, use `newframe = frame.copy()`\n",
      "  new_dataframe[feature] = pd.Series(dtype=float)\n",
      "C:\\Users\\jacki\\anaconda3\\Lib\\site-packages\\sweetviz\\graph_associations.py:219: PerformanceWarning: DataFrame is highly fragmented.  This is usually the result of calling `frame.insert` many times, which has poor performance.  Consider joining all columns at once using pd.concat(axis=1) instead. To get a de-fragmented frame, use `newframe = frame.copy()`\n",
      "  new_dataframe[feature] = pd.Series(dtype=float)\n",
      "C:\\Users\\jacki\\anaconda3\\Lib\\site-packages\\sweetviz\\graph_associations.py:219: PerformanceWarning: DataFrame is highly fragmented.  This is usually the result of calling `frame.insert` many times, which has poor performance.  Consider joining all columns at once using pd.concat(axis=1) instead. To get a de-fragmented frame, use `newframe = frame.copy()`\n",
      "  new_dataframe[feature] = pd.Series(dtype=float)\n",
      "C:\\Users\\jacki\\anaconda3\\Lib\\site-packages\\sweetviz\\graph_associations.py:219: PerformanceWarning: DataFrame is highly fragmented.  This is usually the result of calling `frame.insert` many times, which has poor performance.  Consider joining all columns at once using pd.concat(axis=1) instead. To get a de-fragmented frame, use `newframe = frame.copy()`\n",
      "  new_dataframe[feature] = pd.Series(dtype=float)\n",
      "C:\\Users\\jacki\\anaconda3\\Lib\\site-packages\\sweetviz\\graph_associations.py:219: PerformanceWarning: DataFrame is highly fragmented.  This is usually the result of calling `frame.insert` many times, which has poor performance.  Consider joining all columns at once using pd.concat(axis=1) instead. To get a de-fragmented frame, use `newframe = frame.copy()`\n",
      "  new_dataframe[feature] = pd.Series(dtype=float)\n",
      "C:\\Users\\jacki\\anaconda3\\Lib\\site-packages\\sweetviz\\graph_associations.py:219: PerformanceWarning: DataFrame is highly fragmented.  This is usually the result of calling `frame.insert` many times, which has poor performance.  Consider joining all columns at once using pd.concat(axis=1) instead. To get a de-fragmented frame, use `newframe = frame.copy()`\n",
      "  new_dataframe[feature] = pd.Series(dtype=float)\n",
      "C:\\Users\\jacki\\anaconda3\\Lib\\site-packages\\sweetviz\\graph_associations.py:219: PerformanceWarning: DataFrame is highly fragmented.  This is usually the result of calling `frame.insert` many times, which has poor performance.  Consider joining all columns at once using pd.concat(axis=1) instead. To get a de-fragmented frame, use `newframe = frame.copy()`\n",
      "  new_dataframe[feature] = pd.Series(dtype=float)\n",
      "C:\\Users\\jacki\\anaconda3\\Lib\\site-packages\\sweetviz\\graph_associations.py:219: PerformanceWarning: DataFrame is highly fragmented.  This is usually the result of calling `frame.insert` many times, which has poor performance.  Consider joining all columns at once using pd.concat(axis=1) instead. To get a de-fragmented frame, use `newframe = frame.copy()`\n",
      "  new_dataframe[feature] = pd.Series(dtype=float)\n",
      "C:\\Users\\jacki\\anaconda3\\Lib\\site-packages\\sweetviz\\graph_associations.py:219: PerformanceWarning: DataFrame is highly fragmented.  This is usually the result of calling `frame.insert` many times, which has poor performance.  Consider joining all columns at once using pd.concat(axis=1) instead. To get a de-fragmented frame, use `newframe = frame.copy()`\n",
      "  new_dataframe[feature] = pd.Series(dtype=float)\n",
      "C:\\Users\\jacki\\anaconda3\\Lib\\site-packages\\sweetviz\\graph_associations.py:219: PerformanceWarning: DataFrame is highly fragmented.  This is usually the result of calling `frame.insert` many times, which has poor performance.  Consider joining all columns at once using pd.concat(axis=1) instead. To get a de-fragmented frame, use `newframe = frame.copy()`\n",
      "  new_dataframe[feature] = pd.Series(dtype=float)\n",
      "C:\\Users\\jacki\\anaconda3\\Lib\\site-packages\\sweetviz\\graph_associations.py:219: PerformanceWarning: DataFrame is highly fragmented.  This is usually the result of calling `frame.insert` many times, which has poor performance.  Consider joining all columns at once using pd.concat(axis=1) instead. To get a de-fragmented frame, use `newframe = frame.copy()`\n",
      "  new_dataframe[feature] = pd.Series(dtype=float)\n",
      "C:\\Users\\jacki\\anaconda3\\Lib\\site-packages\\sweetviz\\graph_associations.py:219: PerformanceWarning: DataFrame is highly fragmented.  This is usually the result of calling `frame.insert` many times, which has poor performance.  Consider joining all columns at once using pd.concat(axis=1) instead. To get a de-fragmented frame, use `newframe = frame.copy()`\n",
      "  new_dataframe[feature] = pd.Series(dtype=float)\n",
      "C:\\Users\\jacki\\anaconda3\\Lib\\site-packages\\sweetviz\\graph_associations.py:219: PerformanceWarning: DataFrame is highly fragmented.  This is usually the result of calling `frame.insert` many times, which has poor performance.  Consider joining all columns at once using pd.concat(axis=1) instead. To get a de-fragmented frame, use `newframe = frame.copy()`\n",
      "  new_dataframe[feature] = pd.Series(dtype=float)\n",
      "C:\\Users\\jacki\\anaconda3\\Lib\\site-packages\\sweetviz\\graph_associations.py:219: PerformanceWarning: DataFrame is highly fragmented.  This is usually the result of calling `frame.insert` many times, which has poor performance.  Consider joining all columns at once using pd.concat(axis=1) instead. To get a de-fragmented frame, use `newframe = frame.copy()`\n",
      "  new_dataframe[feature] = pd.Series(dtype=float)\n",
      "C:\\Users\\jacki\\anaconda3\\Lib\\site-packages\\sweetviz\\graph_associations.py:219: PerformanceWarning: DataFrame is highly fragmented.  This is usually the result of calling `frame.insert` many times, which has poor performance.  Consider joining all columns at once using pd.concat(axis=1) instead. To get a de-fragmented frame, use `newframe = frame.copy()`\n",
      "  new_dataframe[feature] = pd.Series(dtype=float)\n",
      "C:\\Users\\jacki\\anaconda3\\Lib\\site-packages\\sweetviz\\graph_associations.py:219: PerformanceWarning: DataFrame is highly fragmented.  This is usually the result of calling `frame.insert` many times, which has poor performance.  Consider joining all columns at once using pd.concat(axis=1) instead. To get a de-fragmented frame, use `newframe = frame.copy()`\n",
      "  new_dataframe[feature] = pd.Series(dtype=float)\n",
      "C:\\Users\\jacki\\anaconda3\\Lib\\site-packages\\sweetviz\\graph_associations.py:219: PerformanceWarning: DataFrame is highly fragmented.  This is usually the result of calling `frame.insert` many times, which has poor performance.  Consider joining all columns at once using pd.concat(axis=1) instead. To get a de-fragmented frame, use `newframe = frame.copy()`\n",
      "  new_dataframe[feature] = pd.Series(dtype=float)\n",
      "C:\\Users\\jacki\\anaconda3\\Lib\\site-packages\\sweetviz\\graph_associations.py:219: PerformanceWarning: DataFrame is highly fragmented.  This is usually the result of calling `frame.insert` many times, which has poor performance.  Consider joining all columns at once using pd.concat(axis=1) instead. To get a de-fragmented frame, use `newframe = frame.copy()`\n",
      "  new_dataframe[feature] = pd.Series(dtype=float)\n",
      "C:\\Users\\jacki\\anaconda3\\Lib\\site-packages\\sweetviz\\graph_associations.py:219: PerformanceWarning: DataFrame is highly fragmented.  This is usually the result of calling `frame.insert` many times, which has poor performance.  Consider joining all columns at once using pd.concat(axis=1) instead. To get a de-fragmented frame, use `newframe = frame.copy()`\n",
      "  new_dataframe[feature] = pd.Series(dtype=float)\n",
      "C:\\Users\\jacki\\anaconda3\\Lib\\site-packages\\sweetviz\\graph_associations.py:219: PerformanceWarning: DataFrame is highly fragmented.  This is usually the result of calling `frame.insert` many times, which has poor performance.  Consider joining all columns at once using pd.concat(axis=1) instead. To get a de-fragmented frame, use `newframe = frame.copy()`\n",
      "  new_dataframe[feature] = pd.Series(dtype=float)\n",
      "C:\\Users\\jacki\\anaconda3\\Lib\\site-packages\\sweetviz\\graph_associations.py:219: PerformanceWarning: DataFrame is highly fragmented.  This is usually the result of calling `frame.insert` many times, which has poor performance.  Consider joining all columns at once using pd.concat(axis=1) instead. To get a de-fragmented frame, use `newframe = frame.copy()`\n",
      "  new_dataframe[feature] = pd.Series(dtype=float)\n",
      "C:\\Users\\jacki\\anaconda3\\Lib\\site-packages\\sweetviz\\graph_associations.py:219: PerformanceWarning: DataFrame is highly fragmented.  This is usually the result of calling `frame.insert` many times, which has poor performance.  Consider joining all columns at once using pd.concat(axis=1) instead. To get a de-fragmented frame, use `newframe = frame.copy()`\n",
      "  new_dataframe[feature] = pd.Series(dtype=float)\n",
      "C:\\Users\\jacki\\anaconda3\\Lib\\site-packages\\sweetviz\\graph_associations.py:219: PerformanceWarning: DataFrame is highly fragmented.  This is usually the result of calling `frame.insert` many times, which has poor performance.  Consider joining all columns at once using pd.concat(axis=1) instead. To get a de-fragmented frame, use `newframe = frame.copy()`\n",
      "  new_dataframe[feature] = pd.Series(dtype=float)\n",
      "C:\\Users\\jacki\\anaconda3\\Lib\\site-packages\\sweetviz\\graph_associations.py:219: PerformanceWarning: DataFrame is highly fragmented.  This is usually the result of calling `frame.insert` many times, which has poor performance.  Consider joining all columns at once using pd.concat(axis=1) instead. To get a de-fragmented frame, use `newframe = frame.copy()`\n",
      "  new_dataframe[feature] = pd.Series(dtype=float)\n",
      "C:\\Users\\jacki\\anaconda3\\Lib\\site-packages\\sweetviz\\graph_associations.py:219: PerformanceWarning: DataFrame is highly fragmented.  This is usually the result of calling `frame.insert` many times, which has poor performance.  Consider joining all columns at once using pd.concat(axis=1) instead. To get a de-fragmented frame, use `newframe = frame.copy()`\n",
      "  new_dataframe[feature] = pd.Series(dtype=float)\n",
      "C:\\Users\\jacki\\anaconda3\\Lib\\site-packages\\sweetviz\\graph_associations.py:219: PerformanceWarning: DataFrame is highly fragmented.  This is usually the result of calling `frame.insert` many times, which has poor performance.  Consider joining all columns at once using pd.concat(axis=1) instead. To get a de-fragmented frame, use `newframe = frame.copy()`\n",
      "  new_dataframe[feature] = pd.Series(dtype=float)\n",
      "C:\\Users\\jacki\\anaconda3\\Lib\\site-packages\\sweetviz\\graph_associations.py:219: PerformanceWarning: DataFrame is highly fragmented.  This is usually the result of calling `frame.insert` many times, which has poor performance.  Consider joining all columns at once using pd.concat(axis=1) instead. To get a de-fragmented frame, use `newframe = frame.copy()`\n",
      "  new_dataframe[feature] = pd.Series(dtype=float)\n"
     ]
    },
    {
     "name": "stdout",
     "output_type": "stream",
     "text": [
      "Report sweetbiz_report.html was generated! NOTEBOOK/COLAB USERS: the web browser MAY not pop up, regardless, the report IS saved in your notebook/colab files.\n",
      "---\n",
      "WARNING: one or more correlations had an edge-case/error and a 1.0 correlation was assigned\n",
      "(likely due to only having a single row, containing non-NaN values for both correlated features)\n",
      "Affected correlations:['recoveries/revol_bal_joint', 'recoveries/sec_app_fico_range_low', 'recoveries/sec_app_fico_range_high', 'recoveries/sec_app_mort_acc', 'recoveries/sec_app_open_acc', 'recoveries/sec_app_revol_util', 'recoveries/sec_app_open_act_il', 'recoveries/sec_app_num_rev_accts', 'recoveries/sec_app_mths_since_last_major_derog', 'recoveries/hardship_amount', 'recoveries/hardship_dpd', 'recoveries/orig_projected_additional_accrued_interest', 'recoveries/hardship_payoff_balance_amount', 'recoveries/hardship_last_payment_amount', 'collection_recovery_fee/revol_bal_joint', 'collection_recovery_fee/sec_app_fico_range_low', 'collection_recovery_fee/sec_app_fico_range_high', 'collection_recovery_fee/sec_app_mort_acc', 'collection_recovery_fee/sec_app_open_acc', 'collection_recovery_fee/sec_app_revol_util', 'collection_recovery_fee/sec_app_open_act_il', 'collection_recovery_fee/sec_app_num_rev_accts', 'collection_recovery_fee/sec_app_mths_since_last_major_derog', 'collection_recovery_fee/hardship_amount', 'collection_recovery_fee/hardship_dpd', 'collection_recovery_fee/orig_projected_additional_accrued_interest', 'collection_recovery_fee/hardship_payoff_balance_amount', 'collection_recovery_fee/hardship_last_payment_amount', 'annual_inc_joint/settlement_amount', 'annual_inc_joint/settlement_percentage', 'annual_inc_joint/settlement_term', 'dti_joint/settlement_amount', 'dti_joint/settlement_percentage', 'dti_joint/settlement_term', 'delinq_amnt/sec_app_mths_since_last_major_derog', 'delinq_amnt/hardship_amount', 'delinq_amnt/hardship_dpd', 'delinq_amnt/orig_projected_additional_accrued_interest', 'delinq_amnt/hardship_payoff_balance_amount', 'delinq_amnt/hardship_last_payment_amount', 'revol_bal_joint/recoveries', 'revol_bal_joint/collection_recovery_fee', 'revol_bal_joint/hardship_amount', 'revol_bal_joint/hardship_dpd', 'revol_bal_joint/orig_projected_additional_accrued_interest', 'revol_bal_joint/hardship_payoff_balance_amount', 'revol_bal_joint/hardship_last_payment_amount', 'sec_app_fico_range_low/recoveries', 'sec_app_fico_range_low/collection_recovery_fee', 'sec_app_fico_range_low/hardship_amount', 'sec_app_fico_range_low/hardship_dpd', 'sec_app_fico_range_low/orig_projected_additional_accrued_interest', 'sec_app_fico_range_low/hardship_payoff_balance_amount', 'sec_app_fico_range_low/hardship_last_payment_amount', 'sec_app_fico_range_high/recoveries', 'sec_app_fico_range_high/collection_recovery_fee', 'sec_app_fico_range_high/hardship_amount', 'sec_app_fico_range_high/hardship_dpd', 'sec_app_fico_range_high/orig_projected_additional_accrued_interest', 'sec_app_fico_range_high/hardship_payoff_balance_amount', 'sec_app_fico_range_high/hardship_last_payment_amount', 'sec_app_mort_acc/recoveries', 'sec_app_mort_acc/collection_recovery_fee', 'sec_app_mort_acc/hardship_amount', 'sec_app_mort_acc/hardship_dpd', 'sec_app_mort_acc/orig_projected_additional_accrued_interest', 'sec_app_mort_acc/hardship_payoff_balance_amount', 'sec_app_mort_acc/hardship_last_payment_amount', 'sec_app_open_acc/recoveries', 'sec_app_open_acc/collection_recovery_fee', 'sec_app_open_acc/hardship_amount', 'sec_app_open_acc/hardship_dpd', 'sec_app_open_acc/orig_projected_additional_accrued_interest', 'sec_app_open_acc/hardship_payoff_balance_amount', 'sec_app_open_acc/hardship_last_payment_amount', 'sec_app_revol_util/recoveries', 'sec_app_revol_util/collection_recovery_fee', 'sec_app_revol_util/hardship_amount', 'sec_app_revol_util/hardship_dpd', 'sec_app_revol_util/orig_projected_additional_accrued_interest', 'sec_app_revol_util/hardship_payoff_balance_amount', 'sec_app_revol_util/hardship_last_payment_amount', 'sec_app_open_act_il/recoveries', 'sec_app_open_act_il/collection_recovery_fee', 'sec_app_open_act_il/hardship_amount', 'sec_app_open_act_il/hardship_dpd', 'sec_app_open_act_il/orig_projected_additional_accrued_interest', 'sec_app_open_act_il/hardship_payoff_balance_amount', 'sec_app_open_act_il/hardship_last_payment_amount', 'sec_app_num_rev_accts/recoveries', 'sec_app_num_rev_accts/collection_recovery_fee', 'sec_app_num_rev_accts/hardship_amount', 'sec_app_num_rev_accts/hardship_dpd', 'sec_app_num_rev_accts/orig_projected_additional_accrued_interest', 'sec_app_num_rev_accts/hardship_payoff_balance_amount', 'sec_app_num_rev_accts/hardship_last_payment_amount', 'sec_app_mths_since_last_major_derog/recoveries', 'sec_app_mths_since_last_major_derog/collection_recovery_fee', 'sec_app_mths_since_last_major_derog/delinq_amnt', 'hardship_amount/recoveries', 'hardship_amount/collection_recovery_fee', 'hardship_amount/delinq_amnt', 'hardship_amount/revol_bal_joint', 'hardship_amount/sec_app_fico_range_low', 'hardship_amount/sec_app_fico_range_high', 'hardship_amount/sec_app_mort_acc', 'hardship_amount/sec_app_open_acc', 'hardship_amount/sec_app_revol_util', 'hardship_amount/sec_app_open_act_il', 'hardship_amount/sec_app_num_rev_accts', 'hardship_amount/settlement_amount', 'hardship_amount/settlement_percentage', 'hardship_amount/settlement_term', 'hardship_dpd/recoveries', 'hardship_dpd/collection_recovery_fee', 'hardship_dpd/delinq_amnt', 'hardship_dpd/revol_bal_joint', 'hardship_dpd/sec_app_fico_range_low', 'hardship_dpd/sec_app_fico_range_high', 'hardship_dpd/sec_app_mort_acc', 'hardship_dpd/sec_app_open_acc', 'hardship_dpd/sec_app_revol_util', 'hardship_dpd/sec_app_open_act_il', 'hardship_dpd/sec_app_num_rev_accts', 'hardship_dpd/settlement_amount', 'hardship_dpd/settlement_percentage', 'hardship_dpd/settlement_term', 'orig_projected_additional_accrued_interest/recoveries', 'orig_projected_additional_accrued_interest/collection_recovery_fee', 'orig_projected_additional_accrued_interest/delinq_amnt', 'orig_projected_additional_accrued_interest/revol_bal_joint', 'orig_projected_additional_accrued_interest/sec_app_fico_range_low', 'orig_projected_additional_accrued_interest/sec_app_fico_range_high', 'orig_projected_additional_accrued_interest/sec_app_mort_acc', 'orig_projected_additional_accrued_interest/sec_app_open_acc', 'orig_projected_additional_accrued_interest/sec_app_revol_util', 'orig_projected_additional_accrued_interest/sec_app_open_act_il', 'orig_projected_additional_accrued_interest/sec_app_num_rev_accts', 'hardship_payoff_balance_amount/recoveries', 'hardship_payoff_balance_amount/collection_recovery_fee', 'hardship_payoff_balance_amount/delinq_amnt', 'hardship_payoff_balance_amount/revol_bal_joint', 'hardship_payoff_balance_amount/sec_app_fico_range_low', 'hardship_payoff_balance_amount/sec_app_fico_range_high', 'hardship_payoff_balance_amount/sec_app_mort_acc', 'hardship_payoff_balance_amount/sec_app_open_acc', 'hardship_payoff_balance_amount/sec_app_revol_util', 'hardship_payoff_balance_amount/sec_app_open_act_il', 'hardship_payoff_balance_amount/sec_app_num_rev_accts', 'hardship_payoff_balance_amount/settlement_amount', 'hardship_payoff_balance_amount/settlement_percentage', 'hardship_payoff_balance_amount/settlement_term', 'hardship_last_payment_amount/recoveries', 'hardship_last_payment_amount/collection_recovery_fee', 'hardship_last_payment_amount/delinq_amnt', 'hardship_last_payment_amount/revol_bal_joint', 'hardship_last_payment_amount/sec_app_fico_range_low', 'hardship_last_payment_amount/sec_app_fico_range_high', 'hardship_last_payment_amount/sec_app_mort_acc', 'hardship_last_payment_amount/sec_app_open_acc', 'hardship_last_payment_amount/sec_app_revol_util', 'hardship_last_payment_amount/sec_app_open_act_il', 'hardship_last_payment_amount/sec_app_num_rev_accts', 'hardship_last_payment_amount/settlement_amount', 'hardship_last_payment_amount/settlement_percentage', 'hardship_last_payment_amount/settlement_term', 'settlement_amount/annual_inc_joint', 'settlement_amount/dti_joint', 'settlement_amount/hardship_amount', 'settlement_amount/hardship_dpd', 'settlement_amount/hardship_payoff_balance_amount', 'settlement_amount/hardship_last_payment_amount', 'settlement_percentage/annual_inc_joint', 'settlement_percentage/dti_joint', 'settlement_percentage/hardship_amount', 'settlement_percentage/hardship_dpd', 'settlement_percentage/hardship_payoff_balance_amount', 'settlement_percentage/hardship_last_payment_amount', 'settlement_term/annual_inc_joint', 'settlement_term/dti_joint', 'settlement_term/hardship_amount', 'settlement_term/hardship_dpd', 'settlement_term/hardship_payoff_balance_amount', 'settlement_term/hardship_last_payment_amount']\n"
     ]
    }
   ],
   "source": [
    "# 2. Importar librerías\n",
    "import pandas as pd\n",
    "import sweetviz as sv\n",
    "\n",
    "# 3. Cargar el archivo CSV\n",
    "file_path = '../data/Loan_test_set.csv'\n",
    "df = pd.read_csv(file_path, sep=',', low_memory=False, skiprows=1)\n",
    "\n",
    "# 4. Limpiar la columna 'int_rate' y tratar otros posibles valores\n",
    "df['int_rate'] = df['int_rate'].str.rstrip('%').astype(float)\n",
    "\n",
    "# 5. Generar el análisis con Sweetviz\n",
    "report = sv.analyze(df)\n",
    "\n",
    "# 6. Guardar y abrir el reporte en HTML\n",
    "report.show_html('sweetbiz_report.html')"
   ]
  },
  {
   "cell_type": "code",
   "execution_count": null,
   "id": "a20df71d-20b4-42ea-ad98-b9effcf3473c",
   "metadata": {},
   "outputs": [],
   "source": []
  }
 ],
 "metadata": {
  "kernelspec": {
   "display_name": "Python 3 (ipykernel)",
   "language": "python",
   "name": "python3"
  },
  "language_info": {
   "codemirror_mode": {
    "name": "ipython",
    "version": 3
   },
   "file_extension": ".py",
   "mimetype": "text/x-python",
   "name": "python",
   "nbconvert_exporter": "python",
   "pygments_lexer": "ipython3",
   "version": "3.12.4"
  }
 },
 "nbformat": 4,
 "nbformat_minor": 5
}
